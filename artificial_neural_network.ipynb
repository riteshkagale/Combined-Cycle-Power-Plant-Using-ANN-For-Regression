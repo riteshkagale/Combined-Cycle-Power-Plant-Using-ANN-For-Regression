{
  "nbformat": 4,
  "nbformat_minor": 0,
  "metadata": {
    "colab": {
      "name": "artificial_neural_network.ipynb",
      "provenance": [],
      "collapsed_sections": []
    },
    "kernelspec": {
      "name": "python3",
      "display_name": "Python 3"
    }
  },
  "cells": [
    {
      "cell_type": "markdown",
      "metadata": {
        "id": "8sNDnxE2-pwE"
      },
      "source": [
        "### Importing the libraries"
      ]
    },
    {
      "cell_type": "code",
      "metadata": {
        "id": "lxChR1Rk-umf"
      },
      "source": [
        "import numpy as np\n",
        "import pandas as pd\n",
        "import tensorflow as tf"
      ],
      "execution_count": 1,
      "outputs": []
    },
    {
      "cell_type": "code",
      "metadata": {
        "id": "uBTqR3nacj0e",
        "outputId": "f4ade8cc-33cc-4398-8c78-de7737d7236c",
        "colab": {
          "base_uri": "https://localhost:8080/",
          "height": 35
        }
      },
      "source": [
        "tf.__version__"
      ],
      "execution_count": 2,
      "outputs": [
        {
          "output_type": "execute_result",
          "data": {
            "application/vnd.google.colaboratory.intrinsic+json": {
              "type": "string"
            },
            "text/plain": [
              "'2.3.0'"
            ]
          },
          "metadata": {
            "tags": []
          },
          "execution_count": 2
        }
      ]
    },
    {
      "cell_type": "code",
      "metadata": {
        "id": "W2O1LRJbtfvP",
        "outputId": "79ae4ea5-5a89-429f-eb87-cdeaa98cbafa",
        "colab": {
          "base_uri": "https://localhost:8080/",
          "height": 34
        }
      },
      "source": [
        "from google.colab import drive\n",
        "drive.mount('/content/gdrive')"
      ],
      "execution_count": 3,
      "outputs": [
        {
          "output_type": "stream",
          "text": [
            "Mounted at /content/gdrive\n"
          ],
          "name": "stdout"
        }
      ]
    },
    {
      "cell_type": "markdown",
      "metadata": {
        "id": "AG3FQEch-yuA"
      },
      "source": [
        "## Part 1 - Data Preprocessing"
      ]
    },
    {
      "cell_type": "markdown",
      "metadata": {
        "id": "-4zq8Mza_D9O"
      },
      "source": [
        "### Importing the dataset"
      ]
    },
    {
      "cell_type": "code",
      "metadata": {
        "id": "B9CV13Co_HHM"
      },
      "source": [
        "dataset = pd.read_excel('/content/gdrive/My Drive/Colab Notebooks/Artificial Neural Network for regression /Dataset/Folds5x2_pp.xlsx')\n",
        "X = dataset.iloc[:, :-1].values\n",
        "y = dataset.iloc[:, -1].values"
      ],
      "execution_count": 4,
      "outputs": []
    },
    {
      "cell_type": "markdown",
      "metadata": {
        "id": "VC6omXel_Up0"
      },
      "source": [
        "### Splitting the dataset into the Training set and Test set"
      ]
    },
    {
      "cell_type": "code",
      "metadata": {
        "id": "L5edeb2r_agx"
      },
      "source": [
        "from sklearn.model_selection import train_test_split\n",
        "X_train, X_test, y_train, y_test = train_test_split(X, y, test_size = 0.2, random_state = 0)"
      ],
      "execution_count": 5,
      "outputs": []
    },
    {
      "cell_type": "code",
      "metadata": {
        "id": "HYzmYxEpt6Ye",
        "outputId": "94aced72-195c-4f84-df7d-d00b4066bd77",
        "colab": {
          "base_uri": "https://localhost:8080/",
          "height": 134
        }
      },
      "source": [
        "print(X_train)"
      ],
      "execution_count": 6,
      "outputs": [
        {
          "output_type": "stream",
          "text": [
            "[[  11.22   43.13 1017.24   80.9 ]\n",
            " [  13.67   54.3  1015.92   75.42]\n",
            " [  32.84   77.95 1014.68   45.8 ]\n",
            " ...\n",
            " [  16.81   38.52 1018.26   75.21]\n",
            " [  12.8    41.16 1022.43   86.19]\n",
            " [  32.32   67.9  1006.08   37.93]]\n"
          ],
          "name": "stdout"
        }
      ]
    },
    {
      "cell_type": "code",
      "metadata": {
        "id": "c4BN1kxJt-Bp",
        "outputId": "a979eea1-db94-4f26-ff50-834230d9d938",
        "colab": {
          "base_uri": "https://localhost:8080/",
          "height": 34
        }
      },
      "source": [
        "print(y_train)"
      ],
      "execution_count": 7,
      "outputs": [
        {
          "output_type": "stream",
          "text": [
            "[473.93 467.87 431.97 ... 459.01 462.72 428.12]\n"
          ],
          "name": "stdout"
        }
      ]
    },
    {
      "cell_type": "markdown",
      "metadata": {
        "id": "_mSLlAT9_eyI"
      },
      "source": [
        "## Part 2 - Building the ANN"
      ]
    },
    {
      "cell_type": "markdown",
      "metadata": {
        "id": "CsBULd_f_wLY"
      },
      "source": [
        "### Initializing the ANN"
      ]
    },
    {
      "cell_type": "code",
      "metadata": {
        "id": "J6Hd97Ls__Nz"
      },
      "source": [
        "ann = tf.keras.models.Sequential()"
      ],
      "execution_count": 8,
      "outputs": []
    },
    {
      "cell_type": "markdown",
      "metadata": {
        "id": "iitAFJS_ABUn"
      },
      "source": [
        "### Adding the input layer and the first hidden layer"
      ]
    },
    {
      "cell_type": "code",
      "metadata": {
        "id": "ksO_Vv40AHix"
      },
      "source": [
        "ann.add(tf.keras.layers.Dense(units=6, activation='relu'))"
      ],
      "execution_count": 9,
      "outputs": []
    },
    {
      "cell_type": "markdown",
      "metadata": {
        "id": "-lb4kK_wAKbs"
      },
      "source": [
        "### Adding the second hidden layer"
      ]
    },
    {
      "cell_type": "code",
      "metadata": {
        "id": "c2357OqEAQOQ"
      },
      "source": [
        "ann.add(tf.keras.layers.Dense(units=6, activation='relu'))"
      ],
      "execution_count": 10,
      "outputs": []
    },
    {
      "cell_type": "markdown",
      "metadata": {
        "id": "jwMOmKb3AdBY"
      },
      "source": [
        "### Adding the output layer"
      ]
    },
    {
      "cell_type": "code",
      "metadata": {
        "id": "YFATpzsUAkLL"
      },
      "source": [
        "ann.add(tf.keras.layers.Dense(units=1))"
      ],
      "execution_count": 11,
      "outputs": []
    },
    {
      "cell_type": "markdown",
      "metadata": {
        "id": "fq7e4fF6A1yy"
      },
      "source": [
        "## Part 3 - Training the ANN"
      ]
    },
    {
      "cell_type": "markdown",
      "metadata": {
        "id": "qDeylAs2An25"
      },
      "source": [
        "### Compiling the ANN"
      ]
    },
    {
      "cell_type": "code",
      "metadata": {
        "id": "pesgbWlCAtB4"
      },
      "source": [
        "ann.compile(optimizer = 'adam', loss = 'mean_squared_error')"
      ],
      "execution_count": 12,
      "outputs": []
    },
    {
      "cell_type": "markdown",
      "metadata": {
        "id": "YjVuiybYOo7r"
      },
      "source": [
        "### Training the ANN model on the Training set"
      ]
    },
    {
      "cell_type": "code",
      "metadata": {
        "id": "c_vV-tiiA5zn",
        "outputId": "9bd4cd98-079d-47a6-ae3e-457aa7546fe9",
        "colab": {
          "base_uri": "https://localhost:8080/",
          "height": 1000
        }
      },
      "source": [
        "ann.fit(X_train, y_train, batch_size = 32, epochs = 100)"
      ],
      "execution_count": 13,
      "outputs": [
        {
          "output_type": "stream",
          "text": [
            "Epoch 1/100\n",
            "240/240 [==============================] - 0s 877us/step - loss: 37512.5117\n",
            "Epoch 2/100\n",
            "240/240 [==============================] - 0s 824us/step - loss: 773.9635\n",
            "Epoch 3/100\n",
            "240/240 [==============================] - 0s 918us/step - loss: 727.9570\n",
            "Epoch 4/100\n",
            "240/240 [==============================] - 0s 884us/step - loss: 672.5457\n",
            "Epoch 5/100\n",
            "240/240 [==============================] - 0s 823us/step - loss: 611.8278\n",
            "Epoch 6/100\n",
            "240/240 [==============================] - 0s 806us/step - loss: 548.3696\n",
            "Epoch 7/100\n",
            "240/240 [==============================] - 0s 824us/step - loss: 486.1671\n",
            "Epoch 8/100\n",
            "240/240 [==============================] - 0s 859us/step - loss: 424.0315\n",
            "Epoch 9/100\n",
            "240/240 [==============================] - 0s 870us/step - loss: 364.2976\n",
            "Epoch 10/100\n",
            "240/240 [==============================] - 0s 900us/step - loss: 307.6184\n",
            "Epoch 11/100\n",
            "240/240 [==============================] - 0s 895us/step - loss: 256.0100\n",
            "Epoch 12/100\n",
            "240/240 [==============================] - 0s 969us/step - loss: 208.9097\n",
            "Epoch 13/100\n",
            "240/240 [==============================] - 0s 853us/step - loss: 167.5585\n",
            "Epoch 14/100\n",
            "240/240 [==============================] - 0s 951us/step - loss: 132.0217\n",
            "Epoch 15/100\n",
            "240/240 [==============================] - 0s 994us/step - loss: 102.0705\n",
            "Epoch 16/100\n",
            "240/240 [==============================] - 0s 896us/step - loss: 78.6021\n",
            "Epoch 17/100\n",
            "240/240 [==============================] - 0s 891us/step - loss: 60.0560\n",
            "Epoch 18/100\n",
            "240/240 [==============================] - 0s 920us/step - loss: 47.0771\n",
            "Epoch 19/100\n",
            "240/240 [==============================] - 0s 873us/step - loss: 38.3673\n",
            "Epoch 20/100\n",
            "240/240 [==============================] - 0s 824us/step - loss: 33.0799\n",
            "Epoch 21/100\n",
            "240/240 [==============================] - 0s 829us/step - loss: 30.0249\n",
            "Epoch 22/100\n",
            "240/240 [==============================] - 0s 842us/step - loss: 28.4217\n",
            "Epoch 23/100\n",
            "240/240 [==============================] - 0s 882us/step - loss: 27.7956\n",
            "Epoch 24/100\n",
            "240/240 [==============================] - 0s 804us/step - loss: 27.5817\n",
            "Epoch 25/100\n",
            "240/240 [==============================] - 0s 923us/step - loss: 27.0664\n",
            "Epoch 26/100\n",
            "240/240 [==============================] - 0s 828us/step - loss: 27.1388\n",
            "Epoch 27/100\n",
            "240/240 [==============================] - 0s 818us/step - loss: 27.1560\n",
            "Epoch 28/100\n",
            "240/240 [==============================] - 0s 886us/step - loss: 27.1364\n",
            "Epoch 29/100\n",
            "240/240 [==============================] - 0s 819us/step - loss: 27.1468\n",
            "Epoch 30/100\n",
            "240/240 [==============================] - 0s 826us/step - loss: 27.1346\n",
            "Epoch 31/100\n",
            "240/240 [==============================] - 0s 916us/step - loss: 27.0890\n",
            "Epoch 32/100\n",
            "240/240 [==============================] - 0s 820us/step - loss: 28.6775\n",
            "Epoch 33/100\n",
            "240/240 [==============================] - 0s 850us/step - loss: 27.5704\n",
            "Epoch 34/100\n",
            "240/240 [==============================] - 0s 803us/step - loss: 27.1881\n",
            "Epoch 35/100\n",
            "240/240 [==============================] - 0s 832us/step - loss: 27.3623\n",
            "Epoch 36/100\n",
            "240/240 [==============================] - 0s 831us/step - loss: 27.7164\n",
            "Epoch 37/100\n",
            "240/240 [==============================] - 0s 831us/step - loss: 26.6703\n",
            "Epoch 38/100\n",
            "240/240 [==============================] - 0s 858us/step - loss: 28.0558\n",
            "Epoch 39/100\n",
            "240/240 [==============================] - 0s 890us/step - loss: 27.1695\n",
            "Epoch 40/100\n",
            "240/240 [==============================] - 0s 836us/step - loss: 26.7905\n",
            "Epoch 41/100\n",
            "240/240 [==============================] - 0s 896us/step - loss: 27.2089\n",
            "Epoch 42/100\n",
            "240/240 [==============================] - 0s 884us/step - loss: 27.0321\n",
            "Epoch 43/100\n",
            "240/240 [==============================] - 0s 858us/step - loss: 27.0054\n",
            "Epoch 44/100\n",
            "240/240 [==============================] - 0s 802us/step - loss: 27.4645\n",
            "Epoch 45/100\n",
            "240/240 [==============================] - 0s 825us/step - loss: 26.9667\n",
            "Epoch 46/100\n",
            "240/240 [==============================] - 0s 875us/step - loss: 27.1802\n",
            "Epoch 47/100\n",
            "240/240 [==============================] - 0s 875us/step - loss: 27.0811\n",
            "Epoch 48/100\n",
            "240/240 [==============================] - 0s 905us/step - loss: 28.5628\n",
            "Epoch 49/100\n",
            "240/240 [==============================] - 0s 829us/step - loss: 27.0044\n",
            "Epoch 50/100\n",
            "240/240 [==============================] - 0s 872us/step - loss: 28.9202\n",
            "Epoch 51/100\n",
            "240/240 [==============================] - 0s 824us/step - loss: 27.3405\n",
            "Epoch 52/100\n",
            "240/240 [==============================] - 0s 898us/step - loss: 26.8212\n",
            "Epoch 53/100\n",
            "240/240 [==============================] - 0s 904us/step - loss: 27.7987\n",
            "Epoch 54/100\n",
            "240/240 [==============================] - 0s 834us/step - loss: 27.0673\n",
            "Epoch 55/100\n",
            "240/240 [==============================] - 0s 877us/step - loss: 26.9801\n",
            "Epoch 56/100\n",
            "240/240 [==============================] - 0s 833us/step - loss: 27.2656\n",
            "Epoch 57/100\n",
            "240/240 [==============================] - 0s 970us/step - loss: 27.2396\n",
            "Epoch 58/100\n",
            "240/240 [==============================] - 0s 895us/step - loss: 28.5481\n",
            "Epoch 59/100\n",
            "240/240 [==============================] - 0s 872us/step - loss: 28.8129\n",
            "Epoch 60/100\n",
            "240/240 [==============================] - 0s 858us/step - loss: 27.0554\n",
            "Epoch 61/100\n",
            "240/240 [==============================] - 0s 874us/step - loss: 27.4973\n",
            "Epoch 62/100\n",
            "240/240 [==============================] - 0s 919us/step - loss: 26.7625\n",
            "Epoch 63/100\n",
            "240/240 [==============================] - 0s 980us/step - loss: 27.1186\n",
            "Epoch 64/100\n",
            "240/240 [==============================] - 0s 916us/step - loss: 27.1122\n",
            "Epoch 65/100\n",
            "240/240 [==============================] - 0s 993us/step - loss: 27.4447\n",
            "Epoch 66/100\n",
            "240/240 [==============================] - 0s 939us/step - loss: 27.2309\n",
            "Epoch 67/100\n",
            "240/240 [==============================] - 0s 828us/step - loss: 26.6996\n",
            "Epoch 68/100\n",
            "240/240 [==============================] - 0s 905us/step - loss: 27.1789\n",
            "Epoch 69/100\n",
            "240/240 [==============================] - 0s 826us/step - loss: 26.8851\n",
            "Epoch 70/100\n",
            "240/240 [==============================] - 0s 826us/step - loss: 27.5457\n",
            "Epoch 71/100\n",
            "240/240 [==============================] - 0s 853us/step - loss: 27.3882\n",
            "Epoch 72/100\n",
            "240/240 [==============================] - 0s 881us/step - loss: 27.5388\n",
            "Epoch 73/100\n",
            "240/240 [==============================] - 0s 867us/step - loss: 27.7905\n",
            "Epoch 74/100\n",
            "240/240 [==============================] - 0s 899us/step - loss: 26.8674\n",
            "Epoch 75/100\n",
            "240/240 [==============================] - 0s 947us/step - loss: 27.0952\n",
            "Epoch 76/100\n",
            "240/240 [==============================] - 0s 822us/step - loss: 27.7002\n",
            "Epoch 77/100\n",
            "240/240 [==============================] - 0s 871us/step - loss: 27.1476\n",
            "Epoch 78/100\n",
            "240/240 [==============================] - 0s 859us/step - loss: 27.1465\n",
            "Epoch 79/100\n",
            "240/240 [==============================] - 0s 847us/step - loss: 27.0573\n",
            "Epoch 80/100\n",
            "240/240 [==============================] - 0s 888us/step - loss: 27.6859\n",
            "Epoch 81/100\n",
            "240/240 [==============================] - 0s 886us/step - loss: 27.3414\n",
            "Epoch 82/100\n",
            "240/240 [==============================] - 0s 919us/step - loss: 27.0301\n",
            "Epoch 83/100\n",
            "240/240 [==============================] - 0s 913us/step - loss: 28.3940\n",
            "Epoch 84/100\n",
            "240/240 [==============================] - 0s 888us/step - loss: 26.7911\n",
            "Epoch 85/100\n",
            "240/240 [==============================] - 0s 914us/step - loss: 27.8378\n",
            "Epoch 86/100\n",
            "240/240 [==============================] - 0s 818us/step - loss: 27.1907\n",
            "Epoch 87/100\n",
            "240/240 [==============================] - 0s 921us/step - loss: 27.1094\n",
            "Epoch 88/100\n",
            "240/240 [==============================] - 0s 862us/step - loss: 26.8740\n",
            "Epoch 89/100\n",
            "240/240 [==============================] - 0s 828us/step - loss: 28.3771\n",
            "Epoch 90/100\n",
            "240/240 [==============================] - 0s 816us/step - loss: 26.8423\n",
            "Epoch 91/100\n",
            "240/240 [==============================] - 0s 878us/step - loss: 27.1805\n",
            "Epoch 92/100\n",
            "240/240 [==============================] - 0s 895us/step - loss: 27.9239\n",
            "Epoch 93/100\n",
            "240/240 [==============================] - 0s 838us/step - loss: 27.5740\n",
            "Epoch 94/100\n",
            "240/240 [==============================] - 0s 888us/step - loss: 27.4842\n",
            "Epoch 95/100\n",
            "240/240 [==============================] - 0s 847us/step - loss: 26.8594\n",
            "Epoch 96/100\n",
            "240/240 [==============================] - 0s 881us/step - loss: 26.4886\n",
            "Epoch 97/100\n",
            "240/240 [==============================] - 0s 824us/step - loss: 27.9169\n",
            "Epoch 98/100\n",
            "240/240 [==============================] - 0s 825us/step - loss: 27.4196\n",
            "Epoch 99/100\n",
            "240/240 [==============================] - 0s 868us/step - loss: 26.8686\n",
            "Epoch 100/100\n",
            "240/240 [==============================] - 0s 891us/step - loss: 26.8177\n"
          ],
          "name": "stdout"
        },
        {
          "output_type": "execute_result",
          "data": {
            "text/plain": [
              "<tensorflow.python.keras.callbacks.History at 0x7f95b9068ef0>"
            ]
          },
          "metadata": {
            "tags": []
          },
          "execution_count": 13
        }
      ]
    },
    {
      "cell_type": "markdown",
      "metadata": {
        "id": "0H0zKKNEBLD5"
      },
      "source": [
        "### Predicting the results of the Test set"
      ]
    },
    {
      "cell_type": "code",
      "metadata": {
        "id": "IA0yApEmBG1X",
        "outputId": "01dcd033-730a-4ac8-b066-dd5cb55fb413",
        "colab": {
          "base_uri": "https://localhost:8080/",
          "height": 134
        }
      },
      "source": [
        "y_pred = ann.predict(X_test)\n",
        "np.set_printoptions(precision=2)\n",
        "print(np.concatenate((y_pred.reshape(len(y_pred),1), y_test.reshape(len(y_test),1)),1))"
      ],
      "execution_count": 14,
      "outputs": [
        {
          "output_type": "stream",
          "text": [
            "[[429.43 431.23]\n",
            " [460.46 460.01]\n",
            " [463.98 461.14]\n",
            " ...\n",
            " [471.12 473.26]\n",
            " [438.18 438.  ]\n",
            " [457.27 463.28]]\n"
          ],
          "name": "stdout"
        }
      ]
    }
  ]
}